{
 "cells": [
  {
   "cell_type": "markdown",
   "id": "9e03cc1e-1166-47f5-9938-7ad1279ea425",
   "metadata": {},
   "source": [
    " 1. Из колоды в 52 карты извлекаются случайным образом 4 карты. a) Найти вероятность того, что все карты – крести. б) Найти вероятность, что среди 4-х карт окажется хотя бы один туз."
   ]
  },
  {
   "cell_type": "code",
   "execution_count": 2,
   "id": "6cd33067-4ad7-41a1-a465-06dd45bfc6fb",
   "metadata": {},
   "outputs": [],
   "source": [
    "import math\n",
    "\n",
    "# Функция для вычисления сочетаний C(n, k)\n",
    "def combinations(n, k):\n",
    "    return math.factorial(n) / (math.factorial(k) * math.factorial(n - k))\n",
    "\n",
    "# Общее количество способов выбрать 4 карты из 52\n",
    "total_ways = combinations(52, 4)\n",
    "\n",
    "# Количество способов выбрать 4 карты крести из 13\n",
    "heart_ways = combinations(13, 4)\n",
    "\n",
    "# Вероятность того, что все карты крести\n",
    "probability = heart_ways / total_ways"
   ]
  },
  {
   "cell_type": "code",
   "execution_count": 3,
   "id": "15bb8c62-58ef-4aa5-a4de-e4fe46510bb9",
   "metadata": {},
   "outputs": [
    {
     "name": "stdout",
     "output_type": "stream",
     "text": [
      "Вероятность того, что все карты крести: 0.0026410564\n"
     ]
    }
   ],
   "source": [
    "print(\"Вероятность того, что все карты крести: {:.10f}\".format(probability))"
   ]
  },
  {
   "cell_type": "code",
   "execution_count": 4,
   "id": "8178d03e-b4c4-4009-90ba-b844f12b83e2",
   "metadata": {},
   "outputs": [
    {
     "name": "stdout",
     "output_type": "stream",
     "text": [
      "Вероятность того, что среди 4-х карт окажется хотя бы один туз: 0.2812632745\n"
     ]
    }
   ],
   "source": [
    "# Количество способов выбрать 4 карты без тузов из 48 карт (без тузов)\n",
    "non_ace_ways = combinations(48, 4)\n",
    "\n",
    "# Вероятность того, что все 4 карты не будут тузами\n",
    "probability_non_ace = non_ace_ways / total_ways\n",
    "\n",
    "# Вероятность того, что среди 4 карт будет хотя бы один туз\n",
    "probability_at_least_one_ace = 1 - probability_non_ace\n",
    "print(\"Вероятность того, что среди 4-х карт окажется хотя бы один туз: {:.10f}\".format(probability_at_least_one_ace))"
   ]
  },
  {
   "cell_type": "markdown",
   "id": "bf6a1c23-c22d-4818-9f6d-cbb735f4c197",
   "metadata": {},
   "source": [
    "2. На входной двери подъезда установлен кодовый замок, содержащий десять кнопок с цифрами от 0 до 9. Код содержит три цифры, которые нужно нажать одновременно. Какова вероятность того, что человек, не знающий код, откроет дверь с первой попытки?"
   ]
  },
  {
   "cell_type": "code",
   "execution_count": 8,
   "id": "1771b799-e5a6-496b-a313-8128b8e440a9",
   "metadata": {},
   "outputs": [
    {
     "name": "stdout",
     "output_type": "stream",
     "text": [
      "Вероятность открыть дверь с первой попытки: 0.008333333333333333\n"
     ]
    }
   ],
   "source": [
    "# Определяем общее количество цифр и количество цифр в коде\n",
    "total_digits = 10\n",
    "code_length = 3\n",
    "\n",
    "# Вычисляем общее количество комбинаций\n",
    "total_combinations = math.comb(total_digits, code_length)\n",
    "\n",
    "# Определяем количество успешных комбинаций (у нас всего один правильный код)\n",
    "successful_combinations = 1\n",
    "\n",
    "# Вычисляем вероятность открыть дверь с первой попытки\n",
    "probability = successful_combinations / total_combinations\n",
    "\n",
    "# Выводим результат\n",
    "print(\"Вероятность открыть дверь с первой попытки:\", probability)\n"
   ]
  },
  {
   "cell_type": "markdown",
   "id": "4963422d-54b9-4d08-9e11-8bee79c2de50",
   "metadata": {},
   "source": [
    "3. В ящике имеется 15 деталей, из которых 9 окрашены. Рабочий случайным образом извлекает 3 детали. Какова вероятность того, что все извлеченные детали окрашены?"
   ]
  },
  {
   "cell_type": "code",
   "execution_count": 9,
   "id": "3e29c1cc-924b-499d-9101-954f42c5c3ce",
   "metadata": {},
   "outputs": [
    {
     "name": "stdout",
     "output_type": "stream",
     "text": [
      "Вероятность извлечь 3 окрашенные детали: 0.18461538461538463\n"
     ]
    }
   ],
   "source": [
    "# Импортируем библиотеку для работы с математическими функциями\n",
    "import math\n",
    "\n",
    "# Определяем общее количество окрашенных деталей и общее количество деталей в ящике\n",
    "total_colored = 9\n",
    "total_parts = 15\n",
    "parts_to_extract = 3\n",
    "\n",
    "# Вычисляем количество успешных комбинаций (извлечь 3 окрашенные детали)\n",
    "successful_combinations = math.comb(total_colored, parts_to_extract)\n",
    "\n",
    "# Вычисляем общее количество комбинаций (извлечь 3 детали из ящика)\n",
    "total_combinations = math.comb(total_parts, parts_to_extract)\n",
    "\n",
    "# Вычисляем вероятность извлечь 3 окрашенные детали\n",
    "probability = successful_combinations / total_combinations\n",
    "\n",
    "# Выводим результат\n",
    "print(\"Вероятность извлечь 3 окрашенные детали:\", probability)\n"
   ]
  },
  {
   "cell_type": "markdown",
   "id": "4bb7754c-9c04-47e3-a465-b8cdb0e87231",
   "metadata": {},
   "source": [
    "4. В лотерее 100 билетов. Из них 2 выигрышных. Какова вероятность того, что 2 приобретенных билета окажутся выигрышными?"
   ]
  },
  {
   "cell_type": "code",
   "execution_count": 10,
   "id": "5b46e8f6-75f0-4fc3-95d2-9ad32e196a9c",
   "metadata": {},
   "outputs": [
    {
     "name": "stdout",
     "output_type": "stream",
     "text": [
      "Вероятность того, что оба приобретенных билета окажутся выигрышными: 0.00020202020202020202\n"
     ]
    }
   ],
   "source": [
    "# Импортируем библиотеку для работы с математическими функциями\n",
    "import math\n",
    "\n",
    "# Определяем общее количество выигрышных билетов и общее количество билетов\n",
    "total_winning_tickets = 2\n",
    "total_tickets = 100\n",
    "\n",
    "# Вычисляем количество успешных комбинаций (выбрать 2 выигрышных билета)\n",
    "successful_combinations = math.comb(total_winning_tickets, 2)\n",
    "\n",
    "# Вычисляем общее количество комбинаций (выбрать 2 билета из общего количества)\n",
    "total_combinations = math.comb(total_tickets, 2)\n",
    "\n",
    "# Вычисляем вероятность того, что оба приобретенных билета окажутся выигрышными\n",
    "probability = successful_combinations / total_combinations\n",
    "\n",
    "# Выводим результат\n",
    "print(\"Вероятность того, что оба приобретенных билета окажутся выигрышными:\", probability)\n"
   ]
  }
 ],
 "metadata": {
  "kernelspec": {
   "display_name": "Python 3 (ipykernel)",
   "language": "python",
   "name": "python3"
  },
  "language_info": {
   "codemirror_mode": {
    "name": "ipython",
    "version": 3
   },
   "file_extension": ".py",
   "mimetype": "text/x-python",
   "name": "python",
   "nbconvert_exporter": "python",
   "pygments_lexer": "ipython3",
   "version": "3.10.9"
  }
 },
 "nbformat": 4,
 "nbformat_minor": 5
}
